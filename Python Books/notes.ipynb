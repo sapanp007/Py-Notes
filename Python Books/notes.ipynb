{
 "cells": [
  {
   "cell_type": "markdown",
   "source": [
    "Object: Object is collection of data and associated behaviours.\n",
    "\n",
    "Object-Oriented Analysis(OOA): Looking at a problem and identifying objects and interactions between them. Basically what needs to be done. Output of this stage is a set of requirements.\n",
    "\n",
    "Object-Oriented Design: This design stage is all about how things should be done. It's the process of converting requirements into an implementation specification.\n",
    "\n",
    "Object-Oriented Programming: This stage is to convert perfectly defined design into a working program.\n",
    "\n",
    "Interface: It's combination of methods and attributes that other objects can use to interact with that object.\n",
    "\n",
    "Abstraction: Abstraction means dealing with the level of details which are most appropriate to perform a task. It's the process of extracting public interface from inner details. It's the process of encapsulating information with separate public interface and private interface.\n",
    "\n",
    "Association: Author is associated with book.\n",
    "Composition: Objects which are dependent and can't exist independently.\n",
    "Aggregation: Objects can exist independently.\n",
    "\n"
   ],
   "metadata": {
    "collapsed": false,
    "pycharm": {
     "name": "#%% md\n"
    }
   }
  }
 ],
 "metadata": {
  "kernelspec": {
   "display_name": "Python 3",
   "language": "python",
   "name": "python3"
  },
  "language_info": {
   "codemirror_mode": {
    "name": "ipython",
    "version": 2
   },
   "file_extension": ".py",
   "mimetype": "text/x-python",
   "name": "python",
   "nbconvert_exporter": "python",
   "pygments_lexer": "ipython2",
   "version": "2.7.6"
  }
 },
 "nbformat": 4,
 "nbformat_minor": 0
}